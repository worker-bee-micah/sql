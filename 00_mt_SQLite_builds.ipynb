{
 "cells": [
  {
   "cell_type": "markdown",
   "metadata": {},
   "source": [
    "#Extract data from a SQLite3 database. \n",
    "This procedure assumes you are using Anaconda with SQLite installed in the base package. \n",
    "source1 = 'https://docs.python.org/2/library/sqlite3.html'\n",
    "SQLite is a C library that provides a lightweight disk-based database that doesn’t require a separate server process and allows accessing the database using a nonstandard variant of the SQL query language. Some applications can use SQLite for internal data storage. It’s also possible to prototype an application using SQLite and then port the code to a larger database such as PostgreSQL or Oracle.\n",
    "\n",
    "First you create a connection object, the db.\n",
    "Next you create a cursor object and call its execute() method.\n",
    "Data will persist unless user the memory option to stay in RAM.\n",
    "\n",
    "'''"
   ]
  },
  {
   "cell_type": "code",
   "execution_count": 1,
   "metadata": {},
   "outputs": [],
   "source": [
    "import sqlite3"
   ]
  },
  {
   "cell_type": "code",
   "execution_count": 2,
   "metadata": {},
   "outputs": [],
   "source": [
    "#create a new db and close\n",
    "connection = sqlite3.connect(\"pirate_schoolDB.db\")\n",
    "connection.close()"
   ]
  },
  {
   "cell_type": "code",
   "execution_count": null,
   "metadata": {},
   "outputs": [],
   "source": [
    "connection = sqlite3.connect(\"pirate_schoolDB.db\")\n",
    "cursor = connection.cursor()\n",
    "create_pirate_school = \"\"\"\n",
    "                       CREATE TABLE pirate_class \n",
    "                       ( \n",
    "                       number_o_course   INTEGER PRIMARY KEY,\n",
    "                       ship_deck         VARCHAR(2), \n",
    "                       title_o_course    VARCHAR(66),\n",
    "                       desc_yer_course   VARCHAR(666),\n",
    "                       doubloons         INTEGER  \n",
    "                       );\"\"\"\n",
    "cursor.execute(create_pirate_school)\n",
    "connection.commit()\n",
    "connection.close()"
   ]
  },
  {
   "cell_type": "code",
   "execution_count": null,
   "metadata": {
    "scrolled": true
   },
   "outputs": [],
   "source": [
    "pirate_class_data = [(555, \"3\", \"Grog Mixing\", \"Make the grog the way the captain likes it\", 23000),\n",
    "                     (333, \"5i\", \"Cutlass Maintenance\", \"Sharp enough to dissect gnats\", 44000)\n",
    "                    ] \n",
    "connection = sqlite3.connect(\"pirate-schoolDB.db\")\n",
    "cursor = connection.cursor()\n",
    "cursor.executemany('INSERT INTO pirate_class VALUES (?,?,?,?,?', pirate_class_data)\n",
    "                       \n",
    "    \n",
    "connection.commit()\n",
    "\n",
    "connection.close()"
   ]
  },
  {
   "cell_type": "code",
   "execution_count": 44,
   "metadata": {},
   "outputs": [
    {
     "name": "stdout",
     "output_type": "stream",
     "text": [
      "Automatic pdb calling has been turned ON\n"
     ]
    }
   ],
   "source": [
    "%pdb"
   ]
  },
  {
   "cell_type": "code",
   "execution_count": null,
   "metadata": {},
   "outputs": [],
   "source": [
    "connection = sqlite3.connect(\"pirate_shoolDB.db\")\n",
    "cursor = connection.cursor()\n",
    "# build the query in the next line\n",
    "query1 = \"SELECT * FROM pirate_class\"\n",
    "cursor.execute(query1) \n",
    "# fetch results\n",
    "result = cursor.fetchone() \n",
    "print(result)\n",
    "# print results\n",
    "#for row in result:\n",
    "#    print(row)\n",
    "# close connection\n",
    "connection.close()"
   ]
  },
  {
   "cell_type": "raw",
   "metadata": {},
   "source": []
  },
  {
   "cell_type": "code",
   "execution_count": null,
   "metadata": {},
   "outputs": [],
   "source": [
    "conn = sqlite3.connect('treasure_shares.db')"
   ]
  },
  {
   "cell_type": "code",
   "execution_count": 4,
   "metadata": {},
   "outputs": [],
   "source": [
    "conn = sqlite3.connect('treasure_shares.db')\n",
    "c = conn.cursor()\n",
    "# Create table\n",
    "#c.execute('''CREATE TABLE stocks\n",
    "#             (date text, trans text, symbol text, qty real, price real)''')\n",
    "# Insert a row of data\n",
    "#c.execute(\"INSERT INTO stocks VALUES ('2007-02-03','Sell','RHATZ',100,35.14)\")\n",
    "c.execute(\"INSERT INTO stocks VALUES ('01-APR-2019', 'Shell', 'Coconuts', 432, 44.43)\")\n",
    "# Save (commit) the changes\n",
    "conn.commit()\n",
    "# We can also close the connection if we are done with it.\n",
    "# Just be sure any changes have been committed or they will be lost.\n",
    "conn.close()\n",
    "\n"
   ]
  },
  {
   "cell_type": "code",
   "execution_count": 40,
   "metadata": {},
   "outputs": [
    {
     "name": "stdout",
     "output_type": "stream",
     "text": [
      "[('2006-01-05', 'BUY', 'RHAT', 100.0, 35.14), ('2007-01-05', 'BuUY', 'RHAT', 100.0, 35.14), ('2007-01-05', 'BuUY', 'RHAT', 100.0, 35.14), ('2007-01-05', 't', 'RHaaATz', 100.0, 35.14), ('2007-01-05', 't', 'RHATz', 100.0, 35.14), ('2007-02-03', 'Sell', 'RHATz', 100.0, 35.14), ('2007-02-03', 'Sell', 'RHATZ', 100.0, 35.14)]\n"
     ]
    }
   ],
   "source": [
    "conn = sqlite3.connect('treasure_shares.db')\n",
    "c = conn.cursor()\n",
    "c.execute('SELECT * FROM stocks')\n",
    "print(c.fetchall())\n",
    "conn.commit()\n",
    "conn.close()"
   ]
  },
  {
   "cell_type": "code",
   "execution_count": null,
   "metadata": {},
   "outputs": [],
   "source": [
    "t = ('RHATZ',)\n",
    "conn = sqlite3.connect('treasure_shares.db')\n",
    "c = conn.cursor()\n",
    "c.execute('SELECT * FROM stocks WHERE symbol=?', t)\n",
    "print(c.fetchall())\n",
    "conn.commit()\n",
    "conn.close()"
   ]
  },
  {
   "cell_type": "code",
   "execution_count": 6,
   "metadata": {},
   "outputs": [
    {
     "name": "stdout",
     "output_type": "stream",
     "text": [
      "('01-APR-2019', 'Shell', 'Coconuts', 432.0, 44.43)\n",
      "('2006-01-05', 'BUY', 'RHAT', 100.0, 35.14)\n",
      "('2007-01-05', 'BuUY', 'RHAT', 100.0, 35.14)\n",
      "('2007-01-05', 'BuUY', 'RHAT', 100.0, 35.14)\n",
      "('2007-01-05', 't', 'RHaaATz', 100.0, 35.14)\n",
      "('2007-01-05', 't', 'RHATz', 100.0, 35.14)\n",
      "('2007-02-03', 'Sell', 'RHATz', 100.0, 35.14)\n",
      "('2007-02-03', 'Sell', 'RHATZ', 100.0, 35.14)\n"
     ]
    }
   ],
   "source": [
    "conn = sqlite3.connect('treasure_shares.db')\n",
    "c = conn.cursor()\n",
    "for row in c.execute('SELECT * FROM stocks ORDER BY date'):\n",
    "    print(row)"
   ]
  },
  {
   "cell_type": "code",
   "execution_count": null,
   "metadata": {},
   "outputs": [],
   "source": []
  }
 ],
 "metadata": {
  "kernelspec": {
   "display_name": "Python 3",
   "language": "python",
   "name": "python3"
  },
  "language_info": {
   "codemirror_mode": {
    "name": "ipython",
    "version": 3
   },
   "file_extension": ".py",
   "mimetype": "text/x-python",
   "name": "python",
   "nbconvert_exporter": "python",
   "pygments_lexer": "ipython3",
   "version": "3.6.5"
  }
 },
 "nbformat": 4,
 "nbformat_minor": 2
}
