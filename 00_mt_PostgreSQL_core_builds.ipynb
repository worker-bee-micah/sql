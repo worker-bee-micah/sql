{
 "cells": [
  {
   "cell_type": "code",
   "execution_count": null,
   "metadata": {},
   "outputs": [],
   "source": [
    "apt install postgresql"
   ]
  },
  {
   "cell_type": "markdown",
   "metadata": {},
   "source": [
    "#PostgreSQL coding examples\n",
    "\n",
    "Build some basic tables and create functions with this notebook.a General best practice is to implement a SQL function before building PL/pgSQL script if the transaction involves time stamp date that is required to be dumped for security reasons. It is also preferred to build common table expressions, LATERAL JOINS, window functions and other complex logic with SQL.\n",
    "\n",
    "\n",
    "After the core examples are built, advanced buiding blocks and functions using PL/pgSQL, C and ISO-compliant SQL are covered [here]{'work in progress'}\n",
    "\n",
    "Features of PL/pgSQL include EXCEPTIONs, cursors, debug and notice messages, triggers, control and loop statements.\n",
    "\n",
    "\n"
   ]
  },
  {
   "cell_type": "code",
   "execution_count": 2,
   "metadata": {},
   "outputs": [
    {
     "name": "stdout",
     "output_type": "stream",
     "text": [
      "Writing mt_botanica_schema.sql\n"
     ]
    }
   ],
   "source": [
    "%%writefile mt_botanica_schema.sql\n",
    "--practice import file for PostgreSQL database\n",
    "CREATE ROLE mt_botanica_app LOGIN;\n",
    "CREATE DATABASE mt_botanica ENCODINT 'UTF-6' LC_COLLATE 'en_US.UTF-8' LC_CTYPE 'en_US.UTF-8' TEMPLATE template0\n",
    "OWNER mt_botanica_app;\n",
    "--connect\n",
    "\\c mt_botanica\n",
    "--schema name is the same as the owner name\n",
    "CREATE SCHEMA mt_botanica_app AUTHORIZATION mt_botanica_app;\n",
    "\n",
    "SET search path to mt_botanica_app;\n",
    "SET ROLE mt_botanica_app;\n",
    "\n",
    "--build the core table first\n",
    "--species_id is not taxonomic related, assigned by Postres\n",
    "CREATE TABLE species (\n",
    "    species_id SERIAL PRIMARY KEY,\n",
    "    family_name TEXT NOT NULL,\n",
    "    sub_familay_name TEXT NOT NULL,\t\n",
    "    genus_name TEXT NOT NULL,\n",
    "    specific_epithet TEXT NULL,\n",
    "    variety TEXT NULL,\n",
    "    year_species SMALLINT NULL,\n",
    "\n",
    "--CHECK (family_name in --wip\n",
    ");\n",
    "\n",
    "--distributional range, needs contraints\n",
    "CREATE TABLE range (\n",
    "    native TEXT NOT NULL,\n",
    "    cultivated TEXT NULL,\n",
    "    naturalized TEXT NULL\n",
    "\n",
    "/* CREATE TABLE common_names (\n",
    "    species_id\n",
    "\n",
    " \n"
   ]
  },
  {
   "cell_type": "code",
   "execution_count": 3,
   "metadata": {},
   "outputs": [
    {
     "name": "stdout",
     "output_type": "stream",
     "text": [
      "Writing pg_tests_conn.sh\n"
     ]
    }
   ],
   "source": [
    "%%writefile pg_tests_conn.sh\n",
    "#!/bin/bash\n",
    "connection_number=`PGOPTIONS='--statement_timeout=0' psql -AqXt -c \"SELECT\n",
    "count(*) FROM pg_stat_activity\"`\n",
    "case $connection_number in\n",
    "[1-50]*)\n",
    "echo \"OK - $connection_number are used\"\n",
    "exit 0\n",
    ";;\n",
    "[50-100]*)\n",
    "echo \"WARNING - $connection_number are used\"\n",
    "exit 1\n",
    ";;\n",
    "#add more case conditions....\n",
    "esac\n"
   ]
  },
  {
   "cell_type": "code",
   "execution_count": 4,
   "metadata": {},
   "outputs": [],
   "source": [
    "#!bash pg_tests_conn.sh"
   ]
  },
  {
   "cell_type": "code",
   "execution_count": null,
   "metadata": {},
   "outputs": [],
   "source": []
  }
 ],
 "metadata": {
  "kernelspec": {
   "display_name": "Python 3",
   "language": "python",
   "name": "python3"
  },
  "language_info": {
   "codemirror_mode": {
    "name": "ipython",
    "version": 3
   },
   "file_extension": ".py",
   "mimetype": "text/x-python",
   "name": "python",
   "nbconvert_exporter": "python",
   "pygments_lexer": "ipython3",
   "version": "3.6.5"
  }
 },
 "nbformat": 4,
 "nbformat_minor": 2
}
