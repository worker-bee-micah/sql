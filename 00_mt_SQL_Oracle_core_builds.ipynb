{
 "cells": [
  {
   "cell_type": "markdown",
   "metadata": {},
   "source": [
    "#SQL Basics, build tables and queries.\n",
    "\n",
    "Sources for this notebook:\n",
    "\n",
    "\n",
    "[Learning PostgreSQL](http://shop.oreilly.com/product/9781783989188.do)\n",
    "\n",
    "[David Berry, Pluralsight](http://buildingbettersoftware.blogspot.com/)\n",
    "\n",
    "[SQL Pocket Guide 3rd Edition, Jonathan Gennick, 2011](http://shop.oreilly.com/product/0636920013471.do)\n"
   ]
  },
  {
   "cell_type": "code",
   "execution_count": null,
   "metadata": {},
   "outputs": [],
   "source": [
    "##Table Basics: Oracle\n",
    "'''\n",
    "Syntax to create table.\n",
    "NULL values.\n",
    "Default values.\n",
    "Naming Rules: Max 30 chars, tables and view names have to be unique within the same schema\n",
    "Columns must be unique within the same table. Do not use SQL reserved words.\n",
    "Diagram relationships between tables, list PKs and FKs at a minumum.\n",
    "\n",
    "---Names, Unquoted:\n",
    "Characters allowed: alphanumeric, unders_score, $ and #. \n",
    "Unquoted names are case insensitive. \n",
    "Quoted identifiers allow a wider range of name options\n",
    "Column definition rules:\n",
    "Max of 1000 columns, >255 will start row chaining.\n",
    "Max of 30 characters for column name, can be reused in other tables.\n",
    "Minumum info = name & data type, NULL and DEFAULT are optional\n",
    "---NULLs\n",
    "CHAR, VARCHAR, NCHAR, NVARCHAR treat empty strings as NULL value\n",
    "NULLs vs DEFAULTS, dates could be misleading e.g. 1900-01-01 for a future order\n",
    "or missing phone 000-000-0000 instead of <NULL>\n",
    "---Virtual column values are computed from other table columns\n",
    "Normal columns store data on disk\n",
    "Virtual columns : value is computed in result query set, \n",
    "    cannot INSERT or UPDATE virtual columns, \n",
    "    can only use columns in same table,\n",
    "    indexes can be created over virtual column values,\n",
    "    Useful when a derived value is needed.\n",
    "\n",
    "'''"
   ]
  },
  {
   "cell_type": "code",
   "execution_count": 32,
   "metadata": {},
   "outputs": [
    {
     "name": "stdout",
     "output_type": "stream",
     "text": [
      "Overwriting $pirate_school_schema_oracle.sql\n"
     ]
    }
   ],
   "source": [
    "%%writefile $pirate_school_schema_oracle.sql\n",
    "CREATE TABLE pirate_class\n",
    "(\n",
    "    ship_deck    VARCHAR2(2)     NOT NULL,\n",
    "    number_o_course   NUMBER(3,0)     NOT NULL,\n",
    "    title_o_course    VARCHAR2(66)    NOT NULL,\n",
    "    desc_yer_course   VARCHAR2(666)   NOT NULL,\n",
    "    doubloons         NUMBER(3,1)     NOT NULL,\n",
    "    CONSTRAINT pk_ship_deck PRIMARY KEY\n",
    "        (ship_deck, number_o_course),\n",
    "    CONSTRAINT fk_pirate_class_ship_deck FOREIGN KEY\n",
    "        (ship_deck) REFERENCES decks (ship_deck)\n",
    ")\n",
    "TABLESPACE users\n",
    "PCTFREE 75;\n",
    "\n"
   ]
  },
  {
   "cell_type": "code",
   "execution_count": 29,
   "metadata": {},
   "outputs": [
    {
     "name": "stdout",
     "output_type": "stream",
     "text": [
      "Writing port_code_schema.sql\n"
     ]
    }
   ],
   "source": [
    "%%writefile port_code_schema.sql\n",
    "CREATE TABLE port_codes\n",
    "(\n",
    "    port_code     VARCHAR2(4)      NOT NULL,\n",
    "    city          VARCHAR2(30)     NOT NULL,\n",
    "    state         VARCHAR2(30)     NOT NULL,\n",
    "    country_code3 VARCHAR2(3)      NOT NULL\n",
    ");\n"
   ]
  },
  {
   "cell_type": "code",
   "execution_count": 30,
   "metadata": {},
   "outputs": [
    {
     "name": "stdout",
     "output_type": "stream",
     "text": [
      "CREATE TABLE port_codes\r\n",
      "(\r\n",
      "    port_code      VARCHAR2(4)      NOT NULL,\r\n",
      "    city          VARCHAR2(30)     NOT NULL,\r\n",
      "    state         VARCHAR2(30)     NOT NULL,\r\n",
      "    country_code3 VARCHAR2(3)      NOT NULL\r\n",
      ");"
     ]
    }
   ],
   "source": [
    "!cat port_code_schema.sql"
   ]
  },
  {
   "cell_type": "markdown",
   "metadata": {},
   "source": [
    "Select statments for the above\n",
    "select PORT_CODE, CITY, STATE\n",
    "    from PORT_CODES;\n",
    "--OR--    \n",
    " SELECT Port_Code, City, State\n",
    "    FROM Zip_codes;"
   ]
  },
  {
   "cell_type": "code",
   "execution_count": 26,
   "metadata": {},
   "outputs": [
    {
     "name": "stdout",
     "output_type": "stream",
     "text": [
      "Writing zip_code_quoted.sql\n"
     ]
    }
   ],
   "source": [
    "%%writefile port_code_quoted.sql\n",
    "CREATE TABLE \"PortCodes_Q\"\n",
    "(\n",
    "    \"port code\"     VARCHAR2(4)      NOT NULL,\n",
    "    \"city.name\"     VARCHAR2(30)     NOT NULL,\n",
    "    \"state-abbr\"    VARCHAR2(2)      NOT NULL,\n",
    "    \"country code3\" VARCHAR2(3)      NOT NULL\n",
    ");"
   ]
  },
  {
   "cell_type": "markdown",
   "metadata": {},
   "source": [
    "Select statement for the above quoted table\n",
    "SELECT\n",
    "    \"por code\", \"city.name\", \"state-abbr\"\n",
    "FROM \"PortCodes_Q\"\n",
    "WHERE \"port code\" = '1234'"
   ]
  },
  {
   "cell_type": "code",
   "execution_count": 31,
   "metadata": {},
   "outputs": [
    {
     "name": "stdout",
     "output_type": "stream",
     "text": [
      "Writing pirates_table.sql\n"
     ]
    }
   ],
   "source": [
    "%%writefile pirates_table.sql\n",
    "CREATE TABLE pirates\n",
    "(\n",
    "    pirate_id       NUMBER(7)     NOT NULL,\n",
    "    nick_name       VARCHAR2(31)  NOT NULL,\n",
    "    last_name       VARCHAR2(31)  NOT NULL,\n",
    "    eye_patch       VARCHAR2(1)   DEFAULT 'T' NOT NULL, \n",
    "    email           VARCHAR2(128) NOT NULL,\n",
    "    email_domain    VARCHAR2(60)  AS (\n",
    "        SUBSTR(email, INSTR(email, '@', 1,1)+1)\n",
    "        ) VIRTUAL\n",
    "    phone           VARCHAR2(21)  NOT NULL,\n",
    "    berth_date      DATE          NULL,\n",
    "    home_port       VARCHAR2(31)  NULL,\n",
    "    port_country    VARCHAR2(3)   NULL,\n",
    "    active_code     VARCHAR2(1)   DEFAULT 'A' NOT NULL,\n",
    "    CONSTRAINT pk_pirates PRIMARY KEY (pirate_id)\n",
    "    CONSTRAINT ck_pirates_table_eye_patch\n",
    "        CHECK (eye_patch is 'T' or 'F')\n",
    "\n",
    ");"
   ]
  },
  {
   "cell_type": "code",
   "execution_count": 1,
   "metadata": {},
   "outputs": [
    {
     "name": "stdout",
     "output_type": "stream",
     "text": [
      "Writing treasure_map_yorders.sql\n"
     ]
    }
   ],
   "source": [
    "%%writefile treasure_map_yorders.sql\n",
    "CREATE TABLE treasure_map_yorders\n",
    "(\n",
    "    yorder_id          NUMBER(13)      NOT NULL,\n",
    "    yorder_date        DATE            NOT NULL,\n",
    "    pirate_id          NUMBER(7)       NOT NULL,\n",
    "    subtotal           NUMBER(10,2), \n",
    "    tax                NUMBER(10,2),\n",
    "    shipping           NUMBER(10,2),\n",
    "    invoice_total      NUMBER(10,2)\n",
    "                AS (subtotal + tax + shipping)   VIRTUAL         \n",
    ");"
   ]
  },
  {
   "cell_type": "code",
   "execution_count": null,
   "metadata": {},
   "outputs": [],
   "source": [
    " %writefile view_grades_students_oracle.sql\n",
    "--------------------------------------------------------\n",
    "--  DDL for View V_STUDENT_GRADES\n",
    "--------------------------------------------------------\n",
    "\n",
    "CREATE OR REPLACE VIEW V_STUDENT_GRADES AS \n",
    "  SELECT\n",
    "        ce.student_id, co.term_code,\n",
    "        c.department_code, c.course_number,\n",
    "        c.course_title, c.credits, \n",
    "        ce.grade_code, g.points\n",
    "    FROM course_enrollments ce\n",
    "    INNER JOIN course_offerings co\n",
    "        ON  ce.course_offering_id = co.course_offering_id\n",
    "    INNER JOIN courses c\n",
    "        ON c.department_code = co.department_code\n",
    "        AND c.course_number = co.course_number\n",
    "    INNER JOIN grades g\n",
    "        ON ce.grade_code = g.grade_code;\n",
    "\n"
   ]
  }
 ],
 "metadata": {
  "kernelspec": {
   "display_name": "Python 3",
   "language": "python",
   "name": "python3"
  },
  "language_info": {
   "codemirror_mode": {
    "name": "ipython",
    "version": 3
   },
   "file_extension": ".py",
   "mimetype": "text/x-python",
   "name": "python",
   "nbconvert_exporter": "python",
   "pygments_lexer": "ipython3",
   "version": "3.6.5"
  }
 },
 "nbformat": 4,
 "nbformat_minor": 2
}
